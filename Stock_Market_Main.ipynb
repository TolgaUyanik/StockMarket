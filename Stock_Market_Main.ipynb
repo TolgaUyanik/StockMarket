{
 "cells": [
  {
   "cell_type": "markdown",
   "metadata": {
    "id": "5X-xp1Qs_AqM"
   },
   "source": [
    "# TO-DO's\n",
    "- Change the cloud position like positive & negative its hard to understand\n",
    "\n",
    "## 🚨 QUICK SIGNAL REFERENCE\n",
    "\n",
    "| Indicator       | Buy Signal                | Sell Signal               | Overbought       | Oversold        |\n",
    "|-----------------|---------------------------|---------------------------|------------------|-----------------|\n",
    "| **RSI**         | Cross > 30                | Cross < 70                | > 70             | < 30            |\n",
    "| **Stoch**       | %K > %D in < 20           | %K < %D in > 80           | > 80             | < 20            |\n",
    "| **StochRSI**    | Cross > 20                | Cross < 80                | > 80             | < 20            |\n",
    "| **StochRSI_K**  | Cross > StochRSI_D        | Cross < StochRSI_D        | > 80             | < 20            |\n",
    "| **StochRSI_D**  | Smoother confirmation     | Smoother confirmation     | > 80             | < 20            |\n",
    "| **MACD**        | Line > Signal             | Line < Signal             | -                | -               |\n",
    "| **MACDAS-dif**  | Crosses above 0           | Crosses below 0           | -                | -               |\n",
    "| **MACDAS**      | Cross > MACDAS_Signal     | Cross < MACDAS_Signal     | -                | -               |\n",
    "| **MACDAS_Signal**| MACDAS confirmation      | MACDAS confirmation       | -                | -               |\n",
    "| **BB_BWidth**   | Expands sharply           | Contracts sharply         | -                | -               |\n",
    "| **BB_%B**       | Cross > 1.0               | Cross < 0.0               | > 1.0            | < 0.0           |\n",
    "| **YF%**         | Cross > 0                 | Cross < 0                 | -                | -               |\n",
    "| **MFI**         | Cross > 20                | Cross < 80                | > 80             | < 20            |\n",
    "| **RSI**         | Cross > 30                | Cross < 70                | > 70             | < 30            |\n",
    "| **ADX**         | Trend strength > 20       | Trend strength fades      | -                | -               |\n",
    "| **CCI**         | Cross > -100              | Cross < 100               | > 100            | < -100          |\n",
    "| **ROC**         | Cross > 0                 | Cross < 0                 | > 10             | < -10           |\n",
    "| **CMF**         | Crosses above 0           | Crosses below 0           | > 0.25           | < -0.25         |\n",
    "| **ATR**         | High volatility breakout  | Low volatility reversion  | -                | -               |\n",
    "| **FWMA**        | Cross > price             | Cross < price             | -                | -               |\n",
    "| **VWAP**        | Price > VWAP              | Price < VWAP              | -                | -               |\n",
    "| **Supertrend**  | Price crosses above       | Price crosses below       | -                | -               |\n",
    "| **st_way**      | Turns upward              | Turns downward            | -                | -               |\n",
    "| **kama**        | Cross > price             | Cross < price             | -                | -               |\n",
    "| **Tenkan**      | Cross > Kijun             | Cross < Kijun             | -                | -               |\n",
    "| **Kijun**       | Trend baseline            | Trend baseline            | -                | -               |\n",
    "| **Senkou_A**    | Cross > Senkou_B (bullish)| Cross < Senkou_B (bearish)| -                | -               |\n",
    "| **Senkou_B**    | Trend support/resistance  | Trend support/resistance  | -                | -               |\n",
    "| **Cloud_Position**| Price above cloud       | Price below cloud         | -                | -               |\n",
    "| **TK_Cross**    | Tenkan > Kijun (bullish)  | Tenkan < Kijun (bearish)  | -                | -               |\n",
    "| **CPrice**      | Trend confirmation        | Trend breakdown           | -                | -               |\n",
    "| **change**      | % change > 0              | % change < 0              | -                | -               |\n",
    "\n",
    "---\n",
    "\n",
    "### 📝 Footnotes: Indicator Explanations\n",
    "\n",
    "- **RSI**: Relative Strength Index — momentum oscillator indicating overbought/oversold.\n",
    "- **Stoch**: Stochastic Oscillator — compares close to recent high/low range.\n",
    "- **StochRSI_K / D**: Fast/slow lines of StochRSI; look for crossovers near extremes.\n",
    "- **MACD / MACDAS**: Measures momentum through moving average crossovers.\n",
    "- **BB_BWidth**: Bollinger Band Width — shows volatility expansion/contraction.\n",
    "- **BB_%B**: Shows price relative to Bollinger Bands.\n",
    "- **YF%**: Custom momentum/price-change metric (% from yesterday or a fixed base).\n",
    "- **MFI**: Money Flow Index — volume-weighted RSI.\n",
    "- **ADX**: Average Directional Index — trend strength (not direction).\n",
    "- **CCI**: Commodity Channel Index — deviation from mean price.\n",
    "- **ROC**: Rate of Change — measures speed of price movement.\n",
    "- **CMF**: Chaikin Money Flow — money flow volume over time (volume + price).\n",
    "- **ATR**: Average True Range — measures volatility.\n",
    "- **FWMA**: Forward Weighted MA — gives more weight to recent prices.\n",
    "- **VWAP**: Volume Weighted Average Price — intraday fair value tracker.\n",
    "- **Supertrend**: Trend-following indicator; filters noise.\n",
    "- **st_way**: Custom smoothed trend direction estimate.\n",
    "- **kama**: Kaufman Adaptive Moving Average — adjusts to market volatility.\n",
    "- **Ichimoku Indicators** (Tenkan, Kijun, Senkou A/B, TK_Cross, Cloud_Position): multi-component system identifying trend, momentum, and support/resistance.\n",
    "- **CPrice**: Current price, often used to confirm breakouts.\n",
    "- **change**: Percent change over selected time window.\n",
    "\n",
    "| Category                      | Strategy Name             | Key Tools/Indicators                              | Core Logic                                                                 |\n",
    "|------------------------------|---------------------------|----------------------------------------------------|----------------------------------------------------------------------------|\n",
    "| 📈 Technical Analysis        | Trend Following           | Moving Averages, MACD, ADX                         | Ride trends; buy in uptrend, sell in downtrend                            |\n",
    "|                              | Mean Reversion            | RSI, Bollinger Bands, Stochastic Oscillator        | Price reverts to the mean; buy oversold, sell overbought                  |\n",
    "|                              | Breakout Trading          | Price Levels, Volume, VWAP                         | Trade breakouts with volume confirmation                                  |\n",
    "|                              | Support/Resistance Bounce | S/R Zones, Candlestick Patterns                    | Trade bounces from key levels                                              |\n",
    "|                              | Momentum Trading          | ROC, RSI, MACD Histogram, Volume                   | Buy assets with strong price & volume momentum                            |\n",
    "| 🧠 Algorithmic / Quant       | Statistical Arbitrage     | Cointegration, Spread, Z-Score                     | Trade mean-reverting pairs; exploit pricing inefficiencies                |\n",
    "|                              | ML-Based Trading          | XGBoost, LSTM, Random Forest                       | Predict price movement with supervised learning                           |\n",
    "| 🕒 By Timeframe              | Scalping                  | Level 2, VWAP, Order Book                          | Rapid in/out trades; small price moves                                    |\n",
    "|                              | Day Trading               | VWAP, News, 1–15m charts                           | Intraday trading; no overnight positions                                  |\n",
    "|                              | Swing Trading             | Trendlines, RSI, Fibonacci                         | Catch short-term swings (days/weeks)                                      |\n",
    "|                              | Position Trading          | Weekly/Monthly Charts, Macro Indicators            | Ride long-term trends (weeks/months)                                      |\n",
    "| 🔍 Fundamental Analysis      | Earnings Momentum         | EPS Surprise, Guidance, Analyst Ratings           | Buy on strong earnings beats and bullish guidance                         |\n",
    "|                              | Value Investing           | P/E, P/B, DCF, ROE                                 | Buy undervalued companies with solid fundamentals                         |\n",
    "|                              | Event-Driven Trading      | News, FDA, M&A Events, Earnings Dates             | Trade based on major catalysts                                            |\n",
    "| 📊 Rule-Based Examples       | RSI + 200 MA              | RSI, 200-day Moving Average                        | Buy if RSI < 30 and price > 200 MA                                        |\n",
    "|                              | MACD Histogram Reversal   | MACD Histogram                                     | Buy on negative → positive crossover, sell on reversal                    |\n",
    "|                              | Supertrend + ADX Filter   | Supertrend, ADX                                    | Buy if Supertrend is green and ADX > 20                                   |\n"
   ]
  },
  {
   "cell_type": "code",
   "execution_count": 1,
   "metadata": {
    "id": "TvygCWNq_Chf"
   },
   "outputs": [],
   "source": [
    "import yfinance as yf, pandas as pd, matplotlib.pyplot as plt, pandas_ta as ta, numpy as np\n",
    "import os, math, time, warnings\n",
    "import Classic_Analysis\n",
    "from Classic_Analysis import endeks, sectors, portfolio, nasdaq, Coin, bist, bist100, global_Markets,US_stocks\n",
    "from datetime import datetime, timedelta\n",
    "warnings.filterwarnings('ignore', category=UserWarning)\n",
    "warnings.filterwarnings('ignore', category=FutureWarning)\n",
    "pd.set_option('display.max_columns', None)  # Show all columns\n",
    "pd.set_option('display.width', None)        # Don't wrap columns\n",
    "pd.set_option('display.max_colwidth', None) # Show full content of each column\n",
    "pd.set_option('display.float_format', lambda x: '%.2f' % x)\n",
    "#portfolio = [\"MGROS.IS\",\"KCHOL.IS\",\"THYAO.IS\",\"KRDMD.IS\",\"CCOLA.IS\",\"BRSAN.IS\",\"ZOREN.IS\",\"TTRAK.IS\",\"AEFES.IS\",\"FROTO.IS\",\"ALCAR.IS\"] "
   ]
  },
  {
   "cell_type": "markdown",
   "metadata": {},
   "source": []
  },
  {
   "cell_type": "code",
   "execution_count": 2,
   "metadata": {},
   "outputs": [
    {
     "name": "stdout",
     "output_type": "stream",
     "text": [
      "11/11 Downloaded ALCAR.IS data\n",
      "Download process is done!\n",
      "Stock Market Data Processing is Done!\n"
     ]
    }
   ],
   "source": [
    "Classic_Analysis.classic_analysis(portfolio)"
   ]
  },
  {
   "cell_type": "code",
   "execution_count": null,
   "metadata": {},
   "outputs": [],
   "source": [
    "df2 = pd.read_csv(f\"CSVs/Results last.csv\")\n",
    "#df2[[\"\"]]"
   ]
  },
  {
   "cell_type": "code",
   "execution_count": null,
   "metadata": {},
   "outputs": [],
   "source": [
    "df2"
   ]
  },
  {
   "cell_type": "code",
   "execution_count": null,
   "metadata": {},
   "outputs": [],
   "source": [
    "dfport= df2[df2[\"symbol\"].isin(portfolio)]\n",
    "dfport"
   ]
  },
  {
   "cell_type": "code",
   "execution_count": null,
   "metadata": {},
   "outputs": [],
   "source": [
    "XU100 = df2[df2[\"symbol\"].isin(bist100)]\n",
    "XU100.head(50)"
   ]
  },
  {
   "cell_type": "code",
   "execution_count": null,
   "metadata": {},
   "outputs": [],
   "source": [
    "test = df2.copy()\n",
    "#test = test[test[\"BB_%B\"] < 0.2]\n",
    "test = test[test[\"FWMA\"] < test[\"CPrice\"]]\n",
    "test"
   ]
  },
  {
   "cell_type": "code",
   "execution_count": null,
   "metadata": {},
   "outputs": [],
   "source": [
    "###---Oversold---###\n",
    "oversold = df2.copy()\n",
    "oversold = oversold[oversold[\"CCI\"] < 0]\n",
    "#oversold = oversold[oversold[\"ADX\"] > 20]\n",
    "oversold = oversold[oversold[\"RSI\"] < 35]\n",
    "#oversold = oversold[oversold[\"MFI\"] < 20]\n",
    "oversold"
   ]
  },
  {
   "cell_type": "code",
   "execution_count": null,
   "metadata": {},
   "outputs": [],
   "source": [
    "###---Oversold---###\n",
    "overbought = df2.copy()\n",
    "overbought = overbought[overbought[\"RSI\"] > 70]\n",
    "overbought = overbought[overbought[\"MFI\"] > 80]\n",
    "overbought"
   ]
  },
  {
   "cell_type": "code",
   "execution_count": null,
   "metadata": {},
   "outputs": [],
   "source": [
    "cheap = df2.copy()\n",
    "#cheap = cheap[cheap[\"CCI\"] < -80]\n",
    "#cheap = cheap[cheap[\"MFI\"] < 30] # Money Flow Index\n",
    "cheap = cheap[cheap[\"RSI\"] < 40]\n",
    "#cheap = cheap[cheap[\"YF%\"] < 40]\n",
    "#cheap = cheap[cheap[\"ADX\"] < 20]\n",
    "#cheap = cheap[cheap[\"Cloud_Position\"] ==\"Above_Cloud\"]\n",
    "#cheap = cheap[cheap[\"TK_Cross\"] ==\"Bullish\"]\n",
    "\n",
    "#cheap = cheap[cheap[\"BB_%B\"] < 0.4] # We can miss the upward movements \n",
    "#cheap = cheap[cheap[\"ROC\"] > 0] # Momentum tool (rate of change) \n",
    "#cheap = cheap[cheap[\"MACDAS\"] > cheap[\"MACDAS_Signal\"]]\n",
    "#cheap = cheap[cheap[\"Stoch_K\"] < cheap[\"Stoch_D\"]]\n",
    "cheap.head(50)\n",
    "#cheap[\"time\"] = datetime.now()\n",
    "#cheap = cheap[[\"symbol\",'BB_BWidth', 'BB_%B',\"YF%\",\"MFI\",\"RSI\",\"ADX\", \"CCI\", \"ROC\",\"CMF\", \"ATR\",\"FWMA\",\"VWAP\",\"st_way\",\"Supertrend\",\"kama\",\"CPrice\",\"change\",\"time\"]]\n",
    "cheap = cheap.sort_values(by=[\"time\",\"RSI\"])\n",
    "#file_path = \"CSVs/Results/Cheap.csv\"\n",
    "#\n",
    "#if os.path.exists(file_path):\n",
    "#    old_data = pd.read_csv(file_path)\n",
    "#    combined = pd.concat([old_data, cheap], ignore_index=True)\n",
    "#else:\n",
    "#    combined = cheap\n",
    "#combined.to_csv(file_path, index=False)\n",
    "cheap"
   ]
  },
  {
   "cell_type": "code",
   "execution_count": null,
   "metadata": {},
   "outputs": [],
   "source": [
    "# Momentum stocks filter\n",
    "momentum = df2.copy()\n",
    "#momentum = momentum[(momentum[\"RSI\"] >=50) &(momentum[\"RSI\"]< 70)]  # Strong momentum\n",
    "#momentum = momentum[momentum[\"MACDAS\"] > momentum[\"MACDAS_Signal\"]]  # MACD above signal line\n",
    "#momentum = momentum[momentum[\"ROC\"] > 0]  # Positive rate of change\n",
    "momentum = momentum[momentum[\"ADX\"] > 20]  # Strong trend\n",
    "momentum = momentum[momentum[\"CCI\"] < 100]  # Strong trend\n",
    "momentum = momentum[momentum[\"RSI\"] < 60] \n",
    "#momentum = momentum[momentum[\"BB_%B\"] > 0.5]\n",
    "momentum = momentum[momentum[\"kama\"]       < momentum[\"CPrice\"]]\n",
    "momentum = momentum[momentum[\"Supertrend\"] < momentum[\"CPrice\"]]  # MACD above signal line\n",
    "momentum = momentum[momentum[\"st_way\"] > 0 ] \n",
    "momentum= momentum[momentum[\"TK_Cross\"] == \"Bullish\"]\n",
    "#momentum= momentum[momentum[\"Cloud_Position\"] == \"Above_Cloud\"]\n",
    "#momentum = momentum[momentum[\"Stoch_K\"] < momentum[\"Stoch_D\"]]\n",
    "momentum = momentum.sort_values(by=\"RSI\", ascending=True)  # Sort by strongest momentum\n",
    "#momentum = momentum[[\"symbol\",'BB_BWidth', 'BB_%B',\"YF%\",\"MFI\",\"RSI\",\"ADX\", \"CCI\", \"ROC\",\"CMF\", \"ATR\",\"FWMA\",\"VWAP\",\"st_way\",\"Supertrend\",\"kama\",\"CPrice\",\"change\"]]\n",
    "momentum"
   ]
  },
  {
   "cell_type": "code",
   "execution_count": null,
   "metadata": {},
   "outputs": [],
   "source": [
    "bullish = df2.copy()\n",
    "bullish = bullish[bullish[\"TK_Cross\"] == \"Bullish\"]\n",
    "bullish = bullish[bullish[\"Cloud_Position\"] == \"Above_Cloud\"]\n",
    "bullish = bullish[bullish[\"st_way\"] > 0]\n",
    "bullish = bullish[bullish[\"ADX\"] > 40]\n",
    "bullish = bullish[bullish[\"RSI\"] < 70]\n",
    "bullish\t"
   ]
  },
  {
   "cell_type": "code",
   "execution_count": null,
   "metadata": {},
   "outputs": [],
   "source": [
    "#If this one works write portfolio as same format.\n",
    "XU100 = df2.copy()\n",
    "XU100 = XU100[XU100[\"symbol\"].isin(bist100)]\n",
    "XU100 = XU100.sort_values(by=\"RSI\", ascending=True)\n",
    "XU100.head(50)\n",
    "XU100.to_csv(f\"CSVs/XU100 last.csv\")"
   ]
  },
  {
   "cell_type": "code",
   "execution_count": null,
   "metadata": {},
   "outputs": [],
   "source": [
    "#gemini üzerinden seçtiğimiz hisselerin haberlerini getirecek bir kod yazabiliriz.\n",
    "# Change'e göre sıralayıp listeyi inceleyelim\n",
    "hisse = \"XU100.IS\"\n",
    "solo_stock = df2.copy()\n",
    "solo_stock = solo_stock[solo_stock[\"symbol\"]==hisse]\n",
    "#print(solo_stock)\n",
    "solo_stock"
   ]
  }
 ],
 "metadata": {
  "colab": {
   "provenance": []
  },
  "kernelspec": {
   "display_name": "Python 3",
   "language": "python",
   "name": "python3"
  },
  "language_info": {
   "codemirror_mode": {
    "name": "ipython",
    "version": 3
   },
   "file_extension": ".py",
   "mimetype": "text/x-python",
   "name": "python",
   "nbconvert_exporter": "python",
   "pygments_lexer": "ipython3",
   "version": "3.11.9"
  }
 },
 "nbformat": 4,
 "nbformat_minor": 0
}
