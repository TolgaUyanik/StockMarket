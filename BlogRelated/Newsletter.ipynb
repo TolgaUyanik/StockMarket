{
 "cells": [
  {
   "cell_type": "markdown",
   "metadata": {},
   "source": [
    "# Weekly Newsletter\n",
    "- In this section we analyze the top gainers & top losers for recent week.\n",
    "- Which stocks seems cheap, and which stocks are expensive\n",
    "- Cronjob & docker container can be useful for it.\n",
    "- Market summary what happened to index like XU100"
   ]
  },
  {
   "cell_type": "markdown",
   "metadata": {},
   "source": []
  }
 ],
 "metadata": {
  "language_info": {
   "name": "python"
  }
 },
 "nbformat": 4,
 "nbformat_minor": 2
}
